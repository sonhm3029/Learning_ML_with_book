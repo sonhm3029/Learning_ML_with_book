{
 "cells": [
  {
   "cell_type": "markdown",
   "metadata": {},
   "source": [
    "## Tensor\n",
    "\n",
    "- Biếu diễn các chiều dữ liệu lần lượt là hàng, cột, độ sâu \n",
    "\n",
    "=> axis = 0, 1, 2 (.shape(10,10,1)) => thứ tự axis là 0,1,2. Tính theo thứ tự từ ngoài vào.\n",
    "\n",
    "VD: \n",
    "[\n",
    "    [1,2,3],\n",
    "    [1,2,3]\n",
    "]\n",
    "\n",
    "=> shape là (2, 3)\n",
    "\n",
    "[\n",
    "    [\n",
    "        [1,2,3],\n",
    "        [1,2,3]\n",
    "    ],\n",
    "    [\n",
    "        [1,2,3],\n",
    "        [1,2,3]\n",
    "    ]\n",
    "]\n",
    "\n",
    "=> shape là (2, 2, 3)\n",
    "\n",
    "\n",
    "- Kiểu dtype của các dữ liệu trong một tensor phải là giống nhau."
   ]
  },
  {
   "cell_type": "code",
   "execution_count": 20,
   "metadata": {},
   "outputs": [
    {
     "data": {
      "text/plain": [
       "torch.Size([2, 2, 3])"
      ]
     },
     "execution_count": 20,
     "metadata": {},
     "output_type": "execute_result"
    }
   ],
   "source": [
    "import torch\n",
    "\n",
    "x = torch.tensor([\n",
    "    [\n",
    "        [1,2,3],\n",
    "        [1,2,3]\n",
    "    ],\n",
    "    [\n",
    "        [1,2,3],\n",
    "        [1,2,3]\n",
    "    ]\n",
    "])\n",
    "\n",
    "x.shape\n",
    "\n"
   ]
  }
 ],
 "metadata": {
  "kernelspec": {
   "display_name": "Python 3.9.7 ('base')",
   "language": "python",
   "name": "python3"
  },
  "language_info": {
   "codemirror_mode": {
    "name": "ipython",
    "version": 3
   },
   "file_extension": ".py",
   "mimetype": "text/x-python",
   "name": "python",
   "nbconvert_exporter": "python",
   "pygments_lexer": "ipython3",
   "version": "3.9.7"
  },
  "orig_nbformat": 4,
  "vscode": {
   "interpreter": {
    "hash": "a99539085cd3bdd5c32c96cfbe8da0377cdfd87c78a129b6678f1e2495c8398d"
   }
  }
 },
 "nbformat": 4,
 "nbformat_minor": 2
}
