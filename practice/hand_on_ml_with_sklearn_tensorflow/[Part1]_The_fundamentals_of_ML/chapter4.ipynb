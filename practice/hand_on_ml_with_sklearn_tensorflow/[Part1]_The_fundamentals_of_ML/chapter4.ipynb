{
 "cells": [
  {
   "cell_type": "markdown",
   "metadata": {},
   "source": [
    "# Training model"
   ]
  },
  {
   "cell_type": "markdown",
   "metadata": {},
   "source": [
    "## Linear Regression"
   ]
  },
  {
   "cell_type": "markdown",
   "metadata": {},
   "source": [
    "Tên tiếng việt gọi là hồi quy tuyến tính, và đúng như tên thì đây là một hàm tuyến tính"
   ]
  },
  {
   "cell_type": "markdown",
   "metadata": {},
   "source": [
    "Linear regression model prediction:"
   ]
  },
  {
   "cell_type": "markdown",
   "metadata": {},
   "source": [
    "$$\\hat y = \\theta_0 + \\theta_1.x_1 + \\theta_2.x_2 + ... + \\theta_n.x_n$$"
   ]
  },
  {
   "cell_type": "markdown",
   "metadata": {},
   "source": [
    "Trong đó:\n",
    "\n",
    "- $\\hat y$ là giá trị dự đoán\n",
    "- $n$ là số lượng features\n",
    "- $x_i$ là giá trị feature thứ i\n",
    "- $\\theta_j$ là model parameter thứ j trong đó $\\theta_0$ là bias"
   ]
  },
  {
   "cell_type": "markdown",
   "metadata": {},
   "source": [
    "Có thể viết công thức trên dưới dạng vector như sau:\n"
   ]
  },
  {
   "cell_type": "markdown",
   "metadata": {},
   "source": [
    "$$\\hat y = h_\\theta(x) = \\theta^T.x$$"
   ]
  },
  {
   "cell_type": "markdown",
   "metadata": {},
   "source": [
    "Trong đó:\n",
    "\n",
    "- $\\theta$ là vector model parameter, bao gôm cả giá trị bias $\\theta_0$ và các feature weight từ $\\theta_1$ đến $\\theta_n$\n",
    "- $\\theta^T$ là chuyển vị của $\\theta$ (vector hàng thay vì vector cột)\n",
    "- $x$ là giá trị của feature vector từ $x_0$ đến $x_n$ trong đó $x_0$ luôn luôn bằng 1\n",
    "- $\\theta^T.x$ là giá trị nhân vector \n",
    "- $h_0$ is hypothesis function, using the model parameters $\\theta$"
   ]
  },
  {
   "cell_type": "markdown",
   "metadata": {},
   "source": [
    "Tranining model là cách chúng ta cải thiện các tham số $\\theta$ với mục đích sao cho với các giá trị $\\theta$ nhất định thì giá trị ta dự đoán sẽ gần nhất với giá trị thực tế. Dựa vào yêu cầu trên ta có thể xay dựng ra hàm mất mát dựa trên giá trị dự đoán và giá trị thực tế như sau:"
   ]
  },
  {
   "cell_type": "markdown",
   "metadata": {},
   "source": [
    "_MSE cost function for a Linear Regression model_\n",
    "\n",
    "$$MSE(\\textbf{X}, h_\\theta) = \\dfrac{1}{m}.\\sum_{i=1}^{m} (\\theta^T.\\textbf{x}^{(i)} - y^{(i)})$$"
   ]
  },
  {
   "cell_type": "markdown",
   "metadata": {},
   "source": [
    "Với hàm linear thì ta có thể tìm ra $\\theta$ bằng tính toán thông thường như sau:\n",
    "\n",
    "$$\\hat\\theta = (\\textbf{X}^T.\\textbf{X})^{-1}.\\textbf{X}^T .y$$"
   ]
  },
  {
   "cell_type": "markdown",
   "metadata": {},
   "source": [
    "Xét ví dụ cho hàm linear:\n",
    "\n",
    "$$y = 3x + 4$$"
   ]
  },
  {
   "cell_type": "markdown",
   "metadata": {},
   "source": [
    "Ta sẽ cho thêm nhiễu vào bằng cách cộng thêm `np.random.rand(100,1)`"
   ]
  },
  {
   "cell_type": "code",
   "execution_count": 9,
   "metadata": {},
   "outputs": [],
   "source": [
    "import numpy as np\n",
    "import numpy.random as random\n",
    "\n",
    "random.seed(2910)\n",
    "\n",
    "X = 2* np.random.rand(100, 1)\n",
    "y = 4 + 3*X + np.random.rand(100,1)"
   ]
  },
  {
   "cell_type": "code",
   "execution_count": 10,
   "metadata": {},
   "outputs": [
    {
     "data": {
      "text/plain": [
       "Text(0, 0.5, 'y')"
      ]
     },
     "execution_count": 10,
     "metadata": {},
     "output_type": "execute_result"
    },
    {
     "data": {
      "image/png": "[encoded data removed]",
      "text/plain": [
       "<Figure size 432x288 with 1 Axes>"
      ]
     },
     "metadata": {
      "needs_background": "light"
     },
     "output_type": "display_data"
    }
   ],
   "source": [
    "import matplotlib.pyplot as plt\n",
    "%matplotlib inline\n",
    "\n",
    "plt.scatter(X, y)\n",
    "plt.xlabel(\"x1\",)\n",
    "plt.ylabel(\"y\")"
   ]
  },
  {
   "cell_type": "markdown",
   "metadata": {},
   "source": [
    "Tìm ra $\\theta$ bằng tính toán thông thường"
   ]
  },
  {
   "cell_type": "markdown",
   "metadata": {},
   "source": [
    "Tính $(\\textbf{X}^T.\\textbf{X})$"
   ]
  },
  {
   "cell_type": "code",
   "execution_count": 11,
   "metadata": {},
   "outputs": [
    {
     "data": {
      "text/plain": [
       "(4.544707357438557, 2.9639931493249914)"
      ]
     },
     "execution_count": 11,
     "metadata": {},
     "output_type": "execute_result"
    }
   ],
   "source": [
    "X_b = np.c_[np.ones((100, 1)), X]\n",
    "\n",
    "X_b_T = X_b.T\n",
    "\n",
    "theta = np.linalg.inv(X_b_T.dot(X_b)).dot(X_b_T).dot(y)\n",
    "\n",
    "theta_0, theta_1 = theta[0][0],theta[1][0] \n",
    "\n",
    "theta_0, theta_1\n"
   ]
  },
  {
   "cell_type": "markdown",
   "metadata": {},
   "source": [
    "Vậy có thể dự đoán $y=\\theta.X$ hay $y=4.54470 + 2.96x_i$"
   ]
  },
  {
   "cell_type": "code",
   "execution_count": 12,
   "metadata": {},
   "outputs": [
    {
     "data": {
      "text/plain": [
       "[<matplotlib.lines.Line2D at 0x19da17ed220>]"
      ]
     },
     "execution_count": 12,
     "metadata": {},
     "output_type": "execute_result"
    },
    {
     "data": {
      "image/png": "[encoded data removed]",
      "text/plain": [
       "<Figure size 432x288 with 1 Axes>"
      ]
     },
     "metadata": {
      "needs_background": "light"
     },
     "output_type": "display_data"
    }
   ],
   "source": [
    "def fx(x):\n",
    "    return theta_0 + theta_1*x\n",
    "\n",
    "plt.scatter(X, y)\n",
    "plt.xlabel(\"x1\",)\n",
    "plt.ylabel(\"y\")\n",
    "plt.plot([0, 2], [fx(x) for x in [0,2]],'r-')"
   ]
  },
  {
   "cell_type": "markdown",
   "metadata": {},
   "source": [
    "Thử dự đoán với model LinearRegression lib của sklearn"
   ]
  },
  {
   "cell_type": "code",
   "execution_count": 13,
   "metadata": {},
   "outputs": [
    {
     "data": {
      "text/html": [
       "<style>#sk-container-id-1 {color: black;background-color: white;}#sk-container-id-1 pre{padding: 0;}#sk-container-id-1 div.sk-toggleable {background-color: white;}#sk-container-id-1 label.sk-toggleable__label {cursor: pointer;display: block;width: 100%;margin-bottom: 0;padding: 0.3em;box-sizing: border-box;text-align: center;}#sk-container-id-1 label.sk-toggleable__label-arrow:before {content: \"▸\";float: left;margin-right: 0.25em;color: #696969;}#sk-container-id-1 label.sk-toggleable__label-arrow:hover:before {color: black;}#sk-container-id-1 div.sk-estimator:hover label.sk-toggleable__label-arrow:before {color: black;}#sk-container-id-1 div.sk-toggleable__content {max-height: 0;max-width: 0;overflow: hidden;text-align: left;background-color: #f0f8ff;}#sk-container-id-1 div.sk-toggleable__content pre {margin: 0.2em;color: black;border-radius: 0.25em;background-color: #f0f8ff;}#sk-container-id-1 input.sk-toggleable__control:checked~div.sk-toggleable__content {max-height: 200px;max-width: 100%;overflow: auto;}#sk-container-id-1 input.sk-toggleable__control:checked~label.sk-toggleable__label-arrow:before {content: \"▾\";}#sk-container-id-1 div.sk-estimator input.sk-toggleable__control:checked~label.sk-toggleable__label {background-color: #d4ebff;}#sk-container-id-1 div.sk-label input.sk-toggleable__control:checked~label.sk-toggleable__label {background-color: #d4ebff;}#sk-container-id-1 input.sk-hidden--visually {border: 0;clip: rect(1px 1px 1px 1px);clip: rect(1px, 1px, 1px, 1px);height: 1px;margin: -1px;overflow: hidden;padding: 0;position: absolute;width: 1px;}#sk-container-id-1 div.sk-estimator {font-family: monospace;background-color: #f0f8ff;border: 1px dotted black;border-radius: 0.25em;box-sizing: border-box;margin-bottom: 0.5em;}#sk-container-id-1 div.sk-estimator:hover {background-color: #d4ebff;}#sk-container-id-1 div.sk-parallel-item::after {content: \"\";width: 100%;border-bottom: 1px solid gray;flex-grow: 1;}#sk-container-id-1 div.sk-label:hover label.sk-toggleable__label {background-color: #d4ebff;}#sk-container-id-1 div.sk-serial::before {content: \"\";position: absolute;border-left: 1px solid gray;box-sizing: border-box;top: 0;bottom: 0;left: 50%;z-index: 0;}#sk-container-id-1 div.sk-serial {display: flex;flex-direction: column;align-items: center;background-color: white;padding-right: 0.2em;padding-left: 0.2em;position: relative;}#sk-container-id-1 div.sk-item {position: relative;z-index: 1;}#sk-container-id-1 div.sk-parallel {display: flex;align-items: stretch;justify-content: center;background-color: white;position: relative;}#sk-container-id-1 div.sk-item::before, #sk-container-id-1 div.sk-parallel-item::before {content: \"\";position: absolute;border-left: 1px solid gray;box-sizing: border-box;top: 0;bottom: 0;left: 50%;z-index: -1;}#sk-container-id-1 div.sk-parallel-item {display: flex;flex-direction: column;z-index: 1;position: relative;background-color: white;}#sk-container-id-1 div.sk-parallel-item:first-child::after {align-self: flex-end;width: 50%;}#sk-container-id-1 div.sk-parallel-item:last-child::after {align-self: flex-start;width: 50%;}#sk-container-id-1 div.sk-parallel-item:only-child::after {width: 0;}#sk-container-id-1 div.sk-dashed-wrapped {border: 1px dashed gray;margin: 0 0.4em 0.5em 0.4em;box-sizing: border-box;padding-bottom: 0.4em;background-color: white;}#sk-container-id-1 div.sk-label label {font-family: monospace;font-weight: bold;display: inline-block;line-height: 1.2em;}#sk-container-id-1 div.sk-label-container {text-align: center;}#sk-container-id-1 div.sk-container {/* jupyter's `normalize.less` sets `[hidden] { display: none; }` but bootstrap.min.css set `[hidden] { display: none !important; }` so we also need the `!important` here to be able to override the default hidden behavior on the sphinx rendered scikit-learn.org. See: https://github.com/scikit-learn/scikit-learn/issues/21755 */display: inline-block !important;position: relative;}#sk-container-id-1 div.sk-text-repr-fallback {display: none;}</style><div id=\"sk-container-id-1\" class=\"sk-top-container\"><div class=\"sk-text-repr-fallback\"><pre>LinearRegression()</pre><b>In a Jupyter environment, please rerun this cell to show the HTML representation or trust the notebook. <br />On GitHub, the HTML representation is unable to render, please try loading this page with nbviewer.org.</b></div><div class=\"sk-container\" hidden><div class=\"sk-item\"><div class=\"sk-estimator sk-toggleable\"><input class=\"sk-toggleable__control sk-hidden--visually\" id=\"sk-estimator-id-1\" type=\"checkbox\" checked><label for=\"sk-estimator-id-1\" class=\"sk-toggleable__label sk-toggleable__label-arrow\">LinearRegression</label><div class=\"sk-toggleable__content\"><pre>LinearRegression()</pre></div></div></div></div></div>"
      ],
      "text/plain": [
       "LinearRegression()"
      ]
     },
     "execution_count": 13,
     "metadata": {},
     "output_type": "execute_result"
    }
   ],
   "source": [
    "from sklearn.linear_model import LinearRegression\n",
    "\n",
    "linear_reg_clf = LinearRegression()\n",
    "\n",
    "linear_reg_clf.fit(X, y)\n"
   ]
  },
  {
   "cell_type": "code",
   "execution_count": 14,
   "metadata": {},
   "outputs": [
    {
     "data": {
      "text/plain": [
       "[<matplotlib.lines.Line2D at 0x19da3c4d8b0>]"
      ]
     },
     "execution_count": 14,
     "metadata": {},
     "output_type": "execute_result"
    },
    {
     "data": {
      "image/png": "[encoded data removed]",
      "text/plain": [
       "<Figure size 432x288 with 1 Axes>"
      ]
     },
     "metadata": {
      "needs_background": "light"
     },
     "output_type": "display_data"
    }
   ],
   "source": [
    "plt.scatter(X, y)\n",
    "plt.xlabel(\"x1\",)\n",
    "plt.ylabel(\"y\")\n",
    "plt.plot([0, 2], [linear_reg_clf.predict([x])[0][0] for x in [[0],[2]]],'r-')"
   ]
  },
  {
   "cell_type": "markdown",
   "metadata": {},
   "source": [
    "**Độ phức tạp của thuật toán (Computational Complexity):**\n",
    "\n",
    "Độp hức tạp của thuật toán này là $O(n^{2.4})$ đến $O(n^3)$"
   ]
  },
  {
   "cell_type": "markdown",
   "metadata": {},
   "source": [
    "## Gradient Descent"
   ]
  },
  {
   "cell_type": "markdown",
   "metadata": {},
   "source": [
    "_Gradient Descent_ là một thuật toán tối ưu hóa rất phổ biến với khả năng tìm ra solution tối ưu cho rất nhiều bài toán. Ý tưởng tổng quan của _Gradient Descent_ là điều chỉnh parameters sau từng vòng lặp để tối thiểu hóa cost function.\n",
    "\n",
    "Đọc chi tiết thuật toán tại [Machine Learning cơ bản](https://machinelearningcoban.com/2017/01/12/gradientdescent/)\n",
    "\n",
    "Hai tham số phải chú ý của GD đó là `learning rate` và `epochs`. Hai giá trị này phải chọn phù hợp, không được quá to và cũng không được quá bé.\n",
    "\n",
    "Nếu như chọn learning rate vừa phải thì mô hình sẽ hội tụ sau một số epochs nhất định:\n",
    "\n",
    "![](../../../imgs/gd_1.png)\n",
    "\n",
    "Chọn learning rate quá nhỏ sẽ dẫn đến mô hình lâu hội tụ hơn => mất thời gian tính toán\n",
    "\n",
    "![](../../../imgs/gd_2.png)\n",
    "\n",
    "Chọn learning rate quá lớn dẫn đến việc mô hình quanh quẩn tại điểm cực tiểu mà mãi không hội tụ\n",
    "\n",
    "![](../../../imgs/gd_1.png)"
   ]
  },
  {
   "cell_type": "markdown",
   "metadata": {},
   "source": [
    "Trong quá trình training hàm số mà ta khảo sát không phải lúc nào cũng chỉ có duy nhất một cực trị mà hầu như là sẽ có nhiều điểm cực trị, trong đó có những điểm làm đạo hàm bằng không được gọi là `local minimum` và điểm cho hàm số bé nhất - `Global minimum`, cái ta cần tìm chính là `Global minimum`. \n",
    "\n",
    "Vấn đề đặt ra đối với các mô hình như trên đó là model có thể bị kẹt tại `local minimum`"
   ]
  },
  {
   "cell_type": "markdown",
   "metadata": {},
   "source": [
    "![](../../../imgs/gd_4.png)"
   ]
  },
  {
   "cell_type": "markdown",
   "metadata": {},
   "source": [
    "Thực tế, hàm mất mắt có hình dạng của cái bát ô tô- hình tròn nếu như các features có scale giống nhau( ví dụ như cùng nằm trong khoảng 0 -1). Nếu như các features có scale khác nhau thì hình dáng của hàm cost sẽ dài ra như hình ellipse\n",
    "\n",
    "Hình dưới đây mô tả hình dạng của cost function khi 2 features có cùng scale (hình bên trái) và khi feature 1 có giá trị nhỏ hơn nhiều so với feature 2\n",
    "\n",
    "![](../../../imgs/gd_5.png)"
   ]
  },
  {
   "cell_type": "markdown",
   "metadata": {},
   "source": [
    "### Batch Gradient Descent "
   ]
  },
  {
   "cell_type": "markdown",
   "metadata": {},
   "source": [
    "Đây là thuật toán Gradient Descent tính đạo hàm của hàm mất mát trên toàn bộ các điểm dữ liệu và theo toàn bộ các parameter $\\theta_j$. Giả sử model có bộ tham số $\\theta$ là $[\\theta_1, \\theta_2, ...\\theta_n]$ thì ta sẽ cần phải tính đạo hàm của hàm cost theo từng $\\theta_j$ và tính trên toàn bộ tập dữ liệu như sau:\n",
    "\n",
    "_Ví dụ với hàm MSE_\n",
    "\n",
    "![](../../../imgs/mse_1.png)"
   ]
  },
  {
   "cell_type": "markdown",
   "metadata": {},
   "source": [
    "Và công thức viết gọn lại sẽ là:"
   ]
  },
  {
   "cell_type": "markdown",
   "metadata": {},
   "source": [
    "![](../../../imgs/mse_2.png)"
   ]
  },
  {
   "cell_type": "markdown",
   "metadata": {},
   "source": [
    "Công thức cập nhật parameter của Batch Gradient Descent sau mỗi vòng lặp sẽ là :\n",
    "\n",
    "$$\\theta^{(next step)} = \\theta - \\eta.\\bigtriangledown_{\\theta}.MSE(\\theta)$$\n",
    "\n",
    "Trong đó $\\eta$ là learning rate"
   ]
  },
  {
   "cell_type": "markdown",
   "metadata": {},
   "source": [
    "Thực hiện tính toán $\\theta$ bằng gradient descent"
   ]
  },
  {
   "cell_type": "code",
   "execution_count": 82,
   "metadata": {},
   "outputs": [
    {
     "data": {
      "text/plain": [
       "array([[4.54470736],\n",
       "       [2.96399315]])"
      ]
     },
     "execution_count": 82,
     "metadata": {},
     "output_type": "execute_result"
    }
   ],
   "source": [
    "import numpy as np\n",
    "\n",
    "np.random.seed(2910)\n",
    "\n",
    "# Learning rate\n",
    "eta = 0.1\n",
    "# \n",
    "n_iters = 1000\n",
    "m = 100\n",
    "\n",
    "# Init theta\n",
    "theta = np.random.randn(2, 1)\n",
    "\n",
    "# plotting:\n",
    "theta_arr = []\n",
    "for iter in range(n_iters):\n",
    "    grad = 2/m * X_b.T.dot(X_b.dot(theta) - y)\n",
    "    theta -= eta*grad\n",
    "    temp = theta.copy()\n",
    "    theta_arr.append(temp)\n",
    "def training(theta=theta, eta=eta, n_iters=n_iters):\n",
    "    for iter in range(n_iters):\n",
    "        grad = 2/m * X_b.T.dot(X_b.dot(theta) - y)\n",
    "        theta -= eta*grad\n",
    "        temp = theta.copy()\n",
    "        theta_arr.append(temp)\n",
    "        \n",
    "def plot(theta_arr):\n",
    "    plt.scatter(X, y)\n",
    "    plt.xlabel(\"x1\",)\n",
    "    plt.ylabel(\"y\")\n",
    "    for theta_i in theta_arr:\n",
    "        plt.plot([0, 2], [(theta_i[0,0] + theta_i[1,0]*x) for x in [0,2]],'r-')\n",
    "    plt.show()\n",
    "\n",
    "theta"
   ]
  },
  {
   "cell_type": "markdown",
   "metadata": {},
   "source": [
    "Xem một vài ví dụ với $\\theta$ tìm được khi thay đổi learning rate ($\\eta$) và áp dụng cho 10 lần lặp"
   ]
  },
  {
   "cell_type": "code",
   "execution_count": 83,
   "metadata": {},
   "outputs": [
    {
     "data": {
      "image/png": "[encoded data removed]",
      "text/plain": [
       "<Figure size 432x288 with 1 Axes>"
      ]
     },
     "metadata": {
      "needs_background": "light"
     },
     "output_type": "display_data"
    }
   ],
   "source": [
    "theta_arr = []\n",
    "theta = np.random.randn(2, 1)\n",
    "training(theta=theta,eta=0.02, n_iters=10)\n",
    "plot(theta_arr)"
   ]
  },
  {
   "cell_type": "code",
   "execution_count": 84,
   "metadata": {},
   "outputs": [
    {
     "data": {
      "image/png": "[encoded data removed]",
      "text/plain": [
       "<Figure size 432x288 with 1 Axes>"
      ]
     },
     "metadata": {
      "needs_background": "light"
     },
     "output_type": "display_data"
    }
   ],
   "source": [
    "theta_arr = []\n",
    "theta = np.random.randn(2, 1)\n",
    "training(theta=theta,eta=0.1, n_iters=10)\n",
    "plot(theta_arr)"
   ]
  },
  {
   "cell_type": "code",
   "execution_count": 85,
   "metadata": {},
   "outputs": [
    {
     "data": {
      "image/png": "[encoded data removed]",
      "text/plain": [
       "<Figure size 432x288 with 1 Axes>"
      ]
     },
     "metadata": {
      "needs_background": "light"
     },
     "output_type": "display_data"
    }
   ],
   "source": [
    "theta_arr = []\n",
    "theta = np.random.randn(2, 1)\n",
    "training(theta=theta,eta=0.5, n_iters=10)\n",
    "plot(theta_arr)"
   ]
  },
  {
   "cell_type": "markdown",
   "metadata": {},
   "source": [
    "### Stochastic Gradient Descent"
   ]
  },
  {
   "cell_type": "markdown",
   "metadata": {},
   "source": [
    "Khác với batch gradient descent là tính toán gradient trên toàn bộ tập dữ liệu thì SGD chỉ thực hiện tính toán trên một điểm dữ liệu được chọn ra ngẫu nhiên từ tập dữ liệu"
   ]
  },
  {
   "cell_type": "markdown",
   "metadata": {},
   "source": [
    "Lợi ích của việc sử dụng SGD đó là sẽ có tốc độ nhanh hơn so với Batch GD, tuy nhiên do tính ngẫu nhiên (ngẫu nhiên chọn ra điểm dữ liệu để thực hiện tính toán gradient) cho nên thay vì làm hàm cost function luôn đi xuống thì ta sẽ có giá trị của hàm này tăng lên, giảm xuống ngẫu nhiên... cho nến nó sẽ đi zik zak mặc dù khá gần với cực tiểu rồi.\n",
    "\n",
    "=> Điều này là không tốt lắm với mong muốn hội tụ\n",
    "\n",
    "![](../../../imgs/gd_6.png)"
   ]
  },
  {
   "cell_type": "markdown",
   "metadata": {},
   "source": [
    "Mà ta biết răng tốc độ hội tụ thì phụ thuộc cả vào learning rate cho nên ta có thể dùng một dạng regularize đó là learning rate schedule, tức là càng đến các epoch cao/ epoch cuối thì learning rate sẽ càng nhỏ => giúp thuật toán hội tụ tốt hơn"
   ]
  },
  {
   "cell_type": "code",
   "execution_count": 87,
   "metadata": {},
   "outputs": [
    {
     "data": {
      "text/plain": [
       "array([[4.55407548],\n",
       "       [2.96841105]])"
      ]
     },
     "execution_count": 87,
     "metadata": {},
     "output_type": "execute_result"
    }
   ],
   "source": [
    "n_epochs = 50\n",
    "t0, t1 = 5, 50 #learning schedule hyperparameters\n",
    "\n",
    "def learning_schedule(t):\n",
    "    return t0 / (t + t1)\n",
    "\n",
    "theta = np.random.randn(2,1)\n",
    "\n",
    "for epoch in range(n_epochs):\n",
    "    for i in range(m):\n",
    "        random_idx = np.random.randint(m)\n",
    "        xi = X_b[random_idx:random_idx+1]\n",
    "        yi = y[random_idx:random_idx+1]\n",
    "        \n",
    "        grad = 2 * xi.T.dot(xi.dot(theta) - yi)\n",
    "        eta = learning_schedule(epoch * m + i)\n",
    "        theta -= eta*grad\n",
    "\n",
    "theta"
   ]
  },
  {
   "cell_type": "markdown",
   "metadata": {},
   "source": [
    "Sử dụng `SGDRegressor` của sklearn, trong đó `.intercept_` là paramter của hệ số tự do (bias) còn `.coef_` là parameter của các weight $\\theta$"
   ]
  },
  {
   "cell_type": "code",
   "execution_count": 90,
   "metadata": {},
   "outputs": [
    {
     "data": {
      "text/plain": [
       "(array([4.54640215]), array([2.96676522]))"
      ]
     },
     "execution_count": 90,
     "metadata": {},
     "output_type": "execute_result"
    }
   ],
   "source": [
    "from sklearn.linear_model import  SGDRegressor\n",
    "\n",
    "sgd_reg = SGDRegressor(n_iter_no_change=50, penalty=None, eta0=0.1)\n",
    "sgd_reg.fit(X, y.ravel())\n",
    "\n",
    "sgd_reg.intercept_, sgd_reg.coef_"
   ]
  },
  {
   "cell_type": "markdown",
   "metadata": {},
   "source": [
    "### Mini-batch Gradient Descent"
   ]
  },
  {
   "cell_type": "markdown",
   "metadata": {},
   "source": [
    "Ý tưởng của thuật toán này đó là chia tập training ra thành các mini-batch (ví dụ 1000 data chia ra làm 10 mini-batch, mỗi batch có 10 data).\n",
    "\n",
    "Mỗi epoch sẽ duyệt qua lần lượt các mini-batch và thực hiện bath gradient descent trên từng mini-batch này, tức là việc tính toán gradient trên toàn bộ dữ liệu của tập mini-batch"
   ]
  },
  {
   "cell_type": "markdown",
   "metadata": {},
   "source": [
    "## Polynomial Regression"
   ]
  },
  {
   "cell_type": "markdown",
   "metadata": {},
   "source": [
    "Hàm số $y = f(x) = w^T.x$ là một hàm tuyến tính theo cả w và x. Trên thực tế, Linear Regression có thể áp dụng cho các mô hình chỉ cần tuyến tính theo w. Ví dụ:\n",
    "\n",
    "$$y = w_1.x_1 + w_2.x_2 + w_3.x_1^2 + w_4.sin(x_2) + w_5.x_1.x_2 + w_0$$\n",
    "\n",
    "Là một hàm tuyến tính theo $w$ vì vậy cũng có thể giải bằng Linear Regression. Với mỗi dữ liệu đầu vào $x = [x_1;x_2]$, chúng ta tính toán dữ liệu mới $x = [x_1, x_2, x_1^2,sin(x_2), x_1.x_2]$ rồi áp dụng Linear Regression với dữ liệu mới này."
   ]
  },
  {
   "cell_type": "markdown",
   "metadata": {},
   "source": [
    "Ví dụ"
   ]
  },
  {
   "cell_type": "code",
   "execution_count": 182,
   "metadata": {},
   "outputs": [],
   "source": [
    "import numpy as np\n",
    "\n",
    "np.random.seed(2910)\n",
    "\n",
    "m = 100\n",
    "X = 6 * np.random.rand(m, 1) - 3\n",
    "y = 0.5 * X**2 + X + 2 + np.random.randn(m, 1)"
   ]
  },
  {
   "cell_type": "code",
   "execution_count": 183,
   "metadata": {},
   "outputs": [
    {
     "data": {
      "image/png": "[encoded data removed]",
      "text/plain": [
       "<Figure size 432x288 with 1 Axes>"
      ]
     },
     "metadata": {
      "needs_background": "light"
     },
     "output_type": "display_data"
    }
   ],
   "source": [
    "import matplotlib\n",
    "import matplotlib.pyplot as plt\n",
    "\n",
    "%matplotlib inline\n",
    "\n",
    "plt.scatter(X, y)\n",
    "\n",
    "plt.show()"
   ]
  },
  {
   "cell_type": "markdown",
   "metadata": {},
   "source": [
    "Đầu bài cho ta hình dạng của dữ liệu là dạng cong kiểu parabol => dự đoán răng hàm f(x) của ta sẽ có dạng $w_2.x^2 + w_1.x + w_0 + noise$. Như vậy đây là bài toán tuyến tính chỉ cho $w$, ta có thể áp dụng biến đổi features thành [x, x^2]."
   ]
  },
  {
   "cell_type": "code",
   "execution_count": 193,
   "metadata": {},
   "outputs": [
    {
     "name": "stdout",
     "output_type": "stream",
     "text": [
      "X shape: (100, 3)\n",
      "y shape: (100, 1)\n",
      "w shape: (3, 1)\n",
      "[[1.97302727]\n",
      " [0.96608672]\n",
      " [0.48487314]]\n"
     ]
    }
   ],
   "source": [
    "# Adding feature\n",
    "X_bar = np.array([np.array([1, item[0], (item**2)[0]])for item in X])\n",
    "y_ = y.reshape(m, -1)\n",
    "\n",
    "# init theta\n",
    "w = np.random.rand(3).reshape(3,-1)\n",
    "eta = 0.01\n",
    "epochs = 1000\n",
    "\n",
    "print(f\"X shape: {X_bar.shape}\")\n",
    "print(f\"y shape: {y_.shape}\")\n",
    "print(f\"w shape: {w.shape}\")\n",
    "# training with Gradient descent\n",
    "for epoch in range(epochs):\n",
    "    # loss\n",
    "    \n",
    "    # gradient\n",
    "    grad = 1/m * X_bar.T.dot(X_bar.dot(w) - y_)\n",
    "    \n",
    "    # update weight\n",
    "    w -=eta * grad\n",
    "    \n",
    "print(w)"
   ]
  },
  {
   "cell_type": "markdown",
   "metadata": {},
   "source": [
    "Vậy ta có hàm cần tìm là $0.48.x^2 + 0.97.x + 1.97$"
   ]
  },
  {
   "cell_type": "code",
   "execution_count": 194,
   "metadata": {},
   "outputs": [
    {
     "data": {
      "image/png": "[encoded data removed]",
      "text/plain": [
       "<Figure size 432x288 with 1 Axes>"
      ]
     },
     "metadata": {
      "needs_background": "light"
     },
     "output_type": "display_data"
    }
   ],
   "source": [
    "def fx(x):\n",
    "    return w[0][0] + w[1][0]*x + w[2][0]*(x**2)\n",
    "\n",
    "x_line = np.arange(-3, 3, 0.01)\n",
    "y_line = np.array([fx(x) for x in x_line])\n",
    "\n",
    "x_line.shape, y_line.shape\n",
    "\n",
    "plt.scatter(X, y)\n",
    "# Visualize line\n",
    "plt.plot(x_line, y_line, color='r')\n",
    "\n",
    "plt.show()\n"
   ]
  },
  {
   "cell_type": "markdown",
   "metadata": {},
   "source": [
    "Ta có thể sử dụng `PolynomialFeatures` của sklearn để thực hiện thêm feature cho dữ liệu rồi sau đó thực hiện `LinearRegression` như thường"
   ]
  },
  {
   "cell_type": "code",
   "execution_count": 195,
   "metadata": {},
   "outputs": [
    {
     "name": "stdout",
     "output_type": "stream",
     "text": [
      "X : [1.38605963]\n",
      "X poly: [1.38605963 1.92116131]\n"
     ]
    }
   ],
   "source": [
    "from sklearn.preprocessing import PolynomialFeatures\n",
    "\n",
    "poly_features = PolynomialFeatures(degree=2, include_bias=False)\n",
    "X_poly = poly_features.fit_transform(X)\n",
    "\n",
    "print(f\"X : {X[0]}\")\n",
    "\n",
    "print(f\"X poly: {X_poly[0]}\")"
   ]
  },
  {
   "cell_type": "code",
   "execution_count": 196,
   "metadata": {},
   "outputs": [
    {
     "data": {
      "text/plain": [
       "(array([1.99089046]), array([[0.96629489, 0.48158395]]))"
      ]
     },
     "execution_count": 196,
     "metadata": {},
     "output_type": "execute_result"
    }
   ],
   "source": [
    "lin_reg = LinearRegression()\n",
    "\n",
    "lin_reg.fit(X_poly, y)\n",
    "\n",
    "lin_reg.intercept_, lin_reg.coef_"
   ]
  },
  {
   "cell_type": "markdown",
   "metadata": {},
   "source": [
    "Kết quả:\n",
    "\n",
    "- Hàm ban đầu: $0.5.x^2 + x + 2 + noise$\n",
    "- Hàm dự đoán: $0.48.x^2 + 0.97.x + 1.99$"
   ]
  },
  {
   "cell_type": "markdown",
   "metadata": {},
   "source": [
    "## Learning Curves\n"
   ]
  },
  {
   "cell_type": "markdown",
   "metadata": {},
   "source": [
    "So sánh Linear Regression với 3 model:\n",
    "\n",
    "- tập train là tập nguyên thủy, có 1 feature - `model 1`\n",
    "- tập train là tập thêm 1 feature nữa là bình phương của feature ban đầu - `model 2`\n",
    "- tập train được thêm -> 300 feature - `model 3`\n",
    "\n",
    "![](../../../imgs/learning_curve.png)"
   ]
  },
  {
   "cell_type": "markdown",
   "metadata": {},
   "source": [
    "Ta thấy rằng:\n",
    "\n",
    "- `model 1` underfitting\n",
    "- `model 2` fit well\n",
    "- `model 3` overfitting"
   ]
  },
  {
   "cell_type": "markdown",
   "metadata": {},
   "source": [
    "Tuy nhiên trong thực tế ta không biết được dạng hàm tuyến tính cần tìm => không thể trực tiếp chọn được ngay cách thêm features như các ví dụ trên. Ta có thể dùng "
   ]
  },
  {
   "cell_type": "markdown",
   "metadata": {},
   "source": [
    "## Regularized Linear Models"
   ]
  },
  {
   "cell_type": "markdown",
   "metadata": {},
   "source": [
    "## Logistic Regression\n"
   ]
  }
 ],
 "metadata": {
  "kernelspec": {
   "display_name": "Python 3.9.7 ('base')",
   "language": "python",
   "name": "python3"
  },
  "language_info": {
   "codemirror_mode": {
    "name": "ipython",
    "version": 3
   },
   "file_extension": ".py",
   "mimetype": "text/x-python",
   "name": "python",
   "nbconvert_exporter": "python",
   "pygments_lexer": "ipython3",
   "version": "3.9.7"
  },
  "orig_nbformat": 4,
  "vscode": {
   "interpreter": {
    "hash": "a99539085cd3bdd5c32c96cfbe8da0377cdfd87c78a129b6678f1e2495c8398d"
   }
  }
 },
 "nbformat": 4,
 "nbformat_minor": 2
}
