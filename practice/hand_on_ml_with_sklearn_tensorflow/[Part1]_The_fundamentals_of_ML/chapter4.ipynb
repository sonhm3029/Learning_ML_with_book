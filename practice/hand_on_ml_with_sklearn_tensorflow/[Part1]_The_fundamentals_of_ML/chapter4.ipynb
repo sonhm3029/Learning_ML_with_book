{
 "cells": [
  {
   "cell_type": "markdown",
   "metadata": {},
   "source": [
    "# Training model"
   ]
  },
  {
   "cell_type": "markdown",
   "metadata": {},
   "source": [
    "## Linear Regression"
   ]
  },
  {
   "cell_type": "markdown",
   "metadata": {},
   "source": [
    "Tên tiếng việt gọi là hồi quy tuyến tính, và đúng như tên thì đây là một hàm tuyến tính"
   ]
  },
  {
   "cell_type": "markdown",
   "metadata": {},
   "source": [
    "Linear regression model prediction:"
   ]
  },
  {
   "cell_type": "markdown",
   "metadata": {},
   "source": [
    "$$\\hat y = \\theta_0 + \\theta_1.x_1 + \\theta_2.x_2 + ... + \\theta_n.x_n$$"
   ]
  },
  {
   "cell_type": "markdown",
   "metadata": {},
   "source": [
    "Trong đó:\n",
    "\n",
    "- $\\hat y$ là giá trị dự đoán\n",
    "- $n$ là số lượng features\n",
    "- $x_i$ là giá trị feature thứ i\n",
    "- $\\theta_j$ là model parameter thứ j trong đó $\\theta_0$ là bias"
   ]
  },
  {
   "cell_type": "markdown",
   "metadata": {},
   "source": [
    "Có thể viết công thức trên dưới dạng vector như sau:\n"
   ]
  },
  {
   "cell_type": "markdown",
   "metadata": {},
   "source": [
    "$$\\hat y = h_\\theta(x) = \\theta^T.x$$"
   ]
  },
  {
   "cell_type": "markdown",
   "metadata": {},
   "source": [
    "Trong đó:\n",
    "\n",
    "- $\\theta$ là vector model parameter, bao gôm cả giá trị bias $\\theta_0$ và các feature weight từ $\\theta_1$ đến $\\theta_n$\n",
    "- $\\theta^T$ là chuyển vị của $\\theta$ (vector hàng thay vì vector cột)\n",
    "- $x$ là giá trị của feature vector từ $x_0$ đến $x_n$ trong đó $x_0$ luôn luôn bằng 1\n",
    "- $\\theta^T.x$ là giá trị nhân vector \n",
    "- $h_0$ is hypothesis function, using the model parameters $\\theta$"
   ]
  },
  {
   "cell_type": "markdown",
   "metadata": {},
   "source": [
    "Tranining model là cách chúng ta cải thiện các tham số $\\theta$ với mục đích sao cho với các giá trị $\\theta$ nhất định thì giá trị ta dự đoán sẽ gần nhất với giá trị thực tế. Dựa vào yêu cầu trên ta có thể xay dựng ra hàm mất mát dựa trên giá trị dự đoán và giá trị thực tế như sau:"
   ]
  },
  {
   "cell_type": "markdown",
   "metadata": {},
   "source": [
    "_MSE cost function for a Linear Regression model_\n",
    "\n",
    "$$MSE(\\textbf{X}, h_\\theta) = \\dfrac{1}{m}.\\sum_{i=1}^{m} (\\theta^T.\\textbf{x}^{(i)} - y^{(i)})$$"
   ]
  },
  {
   "cell_type": "markdown",
   "metadata": {},
   "source": [
    "Với hàm linear thì ta có thể tìm ra $\\theta$ bằng tính toán thông thường như sau:\n",
    "\n",
    "$$\\hat\\theta = (\\textbf{X}^T.\\textbf{X})^{-1}.\\textbf{X}^T .y$$"
   ]
  },
  {
   "cell_type": "markdown",
   "metadata": {},
   "source": [
    "Xét ví dụ cho hàm linear:\n",
    "\n",
    "$$y = 3x + 4$$"
   ]
  },
  {
   "cell_type": "markdown",
   "metadata": {},
   "source": [
    "Ta sẽ cho thêm nhiễu vào bằng cách cộng thêm `np.random.rand(100,1)`"
   ]
  },
  {
   "cell_type": "code",
   "execution_count": 8,
   "metadata": {},
   "outputs": [],
   "source": [
    "import numpy as np\n",
    "import numpy.random as random\n",
    "\n",
    "random.seed(2910)\n",
    "\n",
    "X = 2* np.random.rand(100, 1)\n",
    "y = 4 + 3*X + np.random.rand(100,1)"
   ]
  },
  {
   "cell_type": "code",
   "execution_count": 9,
   "metadata": {},
   "outputs": [
    {
     "data": {
      "text/plain": [
       "Text(0, 0.5, 'y')"
      ]
     },
     "execution_count": 9,
     "metadata": {},
     "output_type": "execute_result"
    },
    {
     "data": {
      "image/png": "[encoded data removed]",
      "text/plain": [
       "<Figure size 432x288 with 1 Axes>"
      ]
     },
     "metadata": {
      "needs_background": "light"
     },
     "output_type": "display_data"
    }
   ],
   "source": [
    "import matplotlib.pyplot as plt\n",
    "%matplotlib inline\n",
    "\n",
    "plt.scatter(X, y)\n",
    "plt.xlabel(\"x1\",)\n",
    "plt.ylabel(\"y\")"
   ]
  },
  {
   "cell_type": "markdown",
   "metadata": {},
   "source": [
    "Tìm ra $\\theta$ bằng tính toán thông thường"
   ]
  },
  {
   "cell_type": "markdown",
   "metadata": {},
   "source": [
    "Tính $(\\textbf{X}^T.\\textbf{X})$"
   ]
  },
  {
   "cell_type": "code",
   "execution_count": 17,
   "metadata": {},
   "outputs": [
    {
     "data": {
      "text/plain": [
       "(4.544707357438558, 2.9639931493249936)"
      ]
     },
     "execution_count": 17,
     "metadata": {},
     "output_type": "execute_result"
    }
   ],
   "source": [
    "X_b = np.c_[np.ones((100, 1)), X]\n",
    "\n",
    "X_b_T = X_b.T\n",
    "\n",
    "theta = np.linalg.inv(X_b_T.dot(X_b)).dot(X_b_T).dot(y)\n",
    "\n",
    "theta_0, theta_1 = theta[0][0],theta[1][0] \n",
    "\n",
    "theta_0, theta_1\n"
   ]
  },
  {
   "cell_type": "markdown",
   "metadata": {},
   "source": [
    "Vậy có thể dự đoán $y=\\theta.X$ hay $y=4.54470 + 2.96x_i$"
   ]
  },
  {
   "cell_type": "code",
   "execution_count": 20,
   "metadata": {},
   "outputs": [
    {
     "data": {
      "text/plain": [
       "[<matplotlib.lines.Line2D at 0x215f49020d0>]"
      ]
     },
     "execution_count": 20,
     "metadata": {},
     "output_type": "execute_result"
    },
    {
     "data": {
      "image/png": "[encoded data removed]",
      "text/plain": [
       "<Figure size 432x288 with 1 Axes>"
      ]
     },
     "metadata": {
      "needs_background": "light"
     },
     "output_type": "display_data"
    }
   ],
   "source": [
    "def fx(x):\n",
    "    return theta_0 + theta_1*x\n",
    "\n",
    "plt.scatter(X, y)\n",
    "plt.xlabel(\"x1\",)\n",
    "plt.ylabel(\"y\")\n",
    "plt.plot([0, 2], [fx(x) for x in [0,2]],'r-')"
   ]
  },
  {
   "cell_type": "markdown",
   "metadata": {},
   "source": [
    "Thử dự đoán với model LinearRegression lib của sklearn"
   ]
  },
  {
   "cell_type": "code",
   "execution_count": 22,
   "metadata": {},
   "outputs": [
    {
     "data": {
      "text/plain": [
       "LinearRegression()"
      ]
     },
     "execution_count": 22,
     "metadata": {},
     "output_type": "execute_result"
    }
   ],
   "source": [
    "from sklearn.linear_model import LinearRegression\n",
    "\n",
    "linear_reg_clf = LinearRegression()\n",
    "\n",
    "linear_reg_clf.fit(X, y)\n"
   ]
  },
  {
   "cell_type": "code",
   "execution_count": 29,
   "metadata": {},
   "outputs": [
    {
     "data": {
      "text/plain": [
       "[<matplotlib.lines.Line2D at 0x215fcf073a0>]"
      ]
     },
     "execution_count": 29,
     "metadata": {},
     "output_type": "execute_result"
    },
    {
     "data": {
      "image/png": "[encoded data removed]",
      "text/plain": [
       "<Figure size 432x288 with 1 Axes>"
      ]
     },
     "metadata": {
      "needs_background": "light"
     },
     "output_type": "display_data"
    }
   ],
   "source": [
    "plt.scatter(X, y)\n",
    "plt.xlabel(\"x1\",)\n",
    "plt.ylabel(\"y\")\n",
    "plt.plot([0, 2], [linear_reg_clf.predict([x])[0][0] for x in [[0],[2]]],'r-')"
   ]
  },
  {
   "cell_type": "markdown",
   "metadata": {},
   "source": [
    "## Gradient Descent"
   ]
  },
  {
   "cell_type": "markdown",
   "metadata": {},
   "source": [
    "## Polynomial Regression"
   ]
  },
  {
   "cell_type": "markdown",
   "metadata": {},
   "source": [
    "## Learning Curves\n"
   ]
  },
  {
   "cell_type": "markdown",
   "metadata": {},
   "source": [
    "## Regularized Linear Models"
   ]
  },
  {
   "cell_type": "markdown",
   "metadata": {},
   "source": [
    "## Logistic Regression\n"
   ]
  }
 ],
 "metadata": {
  "kernelspec": {
   "display_name": "Python 3.9.6 64-bit",
   "language": "python",
   "name": "python3"
  },
  "language_info": {
   "codemirror_mode": {
    "name": "ipython",
    "version": 3
   },
   "file_extension": ".py",
   "mimetype": "text/x-python",
   "name": "python",
   "nbconvert_exporter": "python",
   "pygments_lexer": "ipython3",
   "version": "3.9.6"
  },
  "orig_nbformat": 4,
  "vscode": {
   "interpreter": {
    "hash": "c2fce2166ecf35e10e9706810c05663b0d742ad8d6d30f48ef9e954a1f466467"
   }
  }
 },
 "nbformat": 4,
 "nbformat_minor": 2
}
