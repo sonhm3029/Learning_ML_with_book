{
 "cells": [
  {
   "cell_type": "markdown",
   "metadata": {},
   "source": [
    "# Chapter 2: End-to-End Machine Learning Project"
   ]
  },
  {
   "cell_type": "markdown",
   "metadata": {},
   "source": [
    "## Popular open data repositories\n",
    "\n",
    "- [UC Irvine Machine Learning Repository](http://archive.ics.uci.edu/ml/index.php)\n",
    "- [Kaggle datasets](https://www.kaggle.com/datasets)\n",
    "- [Amazon's AWS datasets](https://registry.opendata.aws/)"
   ]
  },
  {
   "cell_type": "markdown",
   "metadata": {},
   "source": [
    "##  Metal portals (list open data repositories)\n",
    "\n",
    "- [http://dataportals.org/search](http://dataportals.org/search)\n",
    "- [http://opendatamonitor.eu/](http://opendatamonitor.eu/)\n",
    "- [http://quandl.com/](http://quandl.com/)"
   ]
  },
  {
   "cell_type": "markdown",
   "metadata": {},
   "source": [
    "## Other pages listing many popular open data repositories\n",
    "\n",
    "- [Wikipedia's list of Machine Learning datasets](https://goo.gl/SJHN2k)\n",
    "- [Quora.com question](http://goo.gl/zDR78y)\n",
    "- [Datasets subreddit](https://www.reddit.com/r/datasets)"
   ]
  }
 ],
 "metadata": {
  "kernelspec": {
   "display_name": "Python 3.9.7 ('base')",
   "language": "python",
   "name": "python3"
  },
  "language_info": {
   "codemirror_mode": {
    "name": "ipython",
    "version": 3
   },
   "file_extension": ".py",
   "mimetype": "text/x-python",
   "name": "python",
   "nbconvert_exporter": "python",
   "pygments_lexer": "ipython3",
   "version": "3.9.7"
  },
  "orig_nbformat": 4,
  "vscode": {
   "interpreter": {
    "hash": "a99539085cd3bdd5c32c96cfbe8da0377cdfd87c78a129b6678f1e2495c8398d"
   }
  }
 },
 "nbformat": 4,
 "nbformat_minor": 2
}
