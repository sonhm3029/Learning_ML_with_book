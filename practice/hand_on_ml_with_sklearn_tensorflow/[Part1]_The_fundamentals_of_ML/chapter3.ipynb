{
 "cells": [
  {
   "cell_type": "markdown",
   "metadata": {},
   "source": [
    "# Classification"
   ]
  },
  {
   "cell_type": "markdown",
   "metadata": {},
   "source": [
    "## MNIST"
   ]
  },
  {
   "cell_type": "markdown",
   "metadata": {},
   "source": [
    "### Load dataset"
   ]
  },
  {
   "cell_type": "code",
   "execution_count": 22,
   "metadata": {},
   "outputs": [
    {
     "name": "stdout",
     "output_type": "stream",
     "text": [
      "features size: (70000, 784)\n",
      "labels size:(70000,)\n"
     ]
    }
   ],
   "source": [
    "from sklearn.datasets import fetch_openml\n",
    "\n",
    "X_mnist, y_mnist = fetch_openml('mnist_784', version=1, return_X_y=True, as_frame=False)\n",
    "\n",
    "print(f\"features size: {X_mnist.shape}\\nlabels size:{y_mnist.shape}\")"
   ]
  },
  {
   "cell_type": "markdown",
   "metadata": {},
   "source": [
    "### Visualize data"
   ]
  },
  {
   "cell_type": "code",
   "execution_count": 23,
   "metadata": {},
   "outputs": [
    {
     "data": {
      "image/png": "[encoded data removed]",
      "text/plain": [
       "<Figure size 432x288 with 1 Axes>"
      ]
     },
     "metadata": {
      "needs_background": "light"
     },
     "output_type": "display_data"
    }
   ],
   "source": [
    "%matplotlib inline\n",
    "import matplotlib\n",
    "import matplotlib.pyplot as plt\n",
    "\n",
    "X, y = X_mnist, y_mnist\n",
    "\n",
    "some_digit = X[3600]\n",
    "some_digit_image = some_digit.reshape(28, 28)\n",
    "\n",
    "plt.imshow(some_digit_image, cmap=matplotlib.cm.binary,\n",
    "           interpolation='nearest')\n",
    "plt.axis('off')\n",
    "plt.show()"
   ]
  },
  {
   "cell_type": "code",
   "execution_count": 24,
   "metadata": {},
   "outputs": [
    {
     "name": "stdout",
     "output_type": "stream",
     "text": [
      "This is number: 8\n"
     ]
    }
   ],
   "source": [
    "print(f\"This is number: {y[3600]}\")"
   ]
  },
  {
   "cell_type": "markdown",
   "metadata": {},
   "source": [
    "### Split data into train and test set"
   ]
  },
  {
   "cell_type": "code",
   "execution_count": 25,
   "metadata": {},
   "outputs": [
    {
     "name": "stdout",
     "output_type": "stream",
     "text": [
      "Train size: (63000, 784), (63000,)\n",
      "Test size: (7000, 784), (7000,)\n"
     ]
    }
   ],
   "source": [
    "from sklearn.model_selection import train_test_split\n",
    "from sklearn import random\n",
    "\n",
    "random.seed(2910)\n",
    "\n",
    "X_train, X_test, y_train, y_test = train_test_split(X, y,shuffle=True,train_size=0.9 ,random_state=2910)\n",
    "\n",
    "\n",
    "print(f\"Train size: {X_train.shape}, {y_train.shape}\")\n",
    "print(f\"Test size: {X_test.shape}, {y_test.shape}\")\n"
   ]
  },
  {
   "cell_type": "markdown",
   "metadata": {},
   "source": [
    "## Training a Binary Classifier"
   ]
  },
  {
   "cell_type": "markdown",
   "metadata": {},
   "source": [
    "Đưa bài toán trở về đơn giản với binary classifier, xác định đâu là số 8."
   ]
  },
  {
   "cell_type": "code",
   "execution_count": 26,
   "metadata": {},
   "outputs": [],
   "source": [
    "y_train_8 = (y_train == '8')\n",
    "y_test_8= (y_test == '8')\n"
   ]
  },
  {
   "cell_type": "code",
   "execution_count": 27,
   "metadata": {},
   "outputs": [
    {
     "data": {
      "text/html": [
       "<style>#sk-container-id-1 {color: black;background-color: white;}#sk-container-id-1 pre{padding: 0;}#sk-container-id-1 div.sk-toggleable {background-color: white;}#sk-container-id-1 label.sk-toggleable__label {cursor: pointer;display: block;width: 100%;margin-bottom: 0;padding: 0.3em;box-sizing: border-box;text-align: center;}#sk-container-id-1 label.sk-toggleable__label-arrow:before {content: \"▸\";float: left;margin-right: 0.25em;color: #696969;}#sk-container-id-1 label.sk-toggleable__label-arrow:hover:before {color: black;}#sk-container-id-1 div.sk-estimator:hover label.sk-toggleable__label-arrow:before {color: black;}#sk-container-id-1 div.sk-toggleable__content {max-height: 0;max-width: 0;overflow: hidden;text-align: left;background-color: #f0f8ff;}#sk-container-id-1 div.sk-toggleable__content pre {margin: 0.2em;color: black;border-radius: 0.25em;background-color: #f0f8ff;}#sk-container-id-1 input.sk-toggleable__control:checked~div.sk-toggleable__content {max-height: 200px;max-width: 100%;overflow: auto;}#sk-container-id-1 input.sk-toggleable__control:checked~label.sk-toggleable__label-arrow:before {content: \"▾\";}#sk-container-id-1 div.sk-estimator input.sk-toggleable__control:checked~label.sk-toggleable__label {background-color: #d4ebff;}#sk-container-id-1 div.sk-label input.sk-toggleable__control:checked~label.sk-toggleable__label {background-color: #d4ebff;}#sk-container-id-1 input.sk-hidden--visually {border: 0;clip: rect(1px 1px 1px 1px);clip: rect(1px, 1px, 1px, 1px);height: 1px;margin: -1px;overflow: hidden;padding: 0;position: absolute;width: 1px;}#sk-container-id-1 div.sk-estimator {font-family: monospace;background-color: #f0f8ff;border: 1px dotted black;border-radius: 0.25em;box-sizing: border-box;margin-bottom: 0.5em;}#sk-container-id-1 div.sk-estimator:hover {background-color: #d4ebff;}#sk-container-id-1 div.sk-parallel-item::after {content: \"\";width: 100%;border-bottom: 1px solid gray;flex-grow: 1;}#sk-container-id-1 div.sk-label:hover label.sk-toggleable__label {background-color: #d4ebff;}#sk-container-id-1 div.sk-serial::before {content: \"\";position: absolute;border-left: 1px solid gray;box-sizing: border-box;top: 0;bottom: 0;left: 50%;z-index: 0;}#sk-container-id-1 div.sk-serial {display: flex;flex-direction: column;align-items: center;background-color: white;padding-right: 0.2em;padding-left: 0.2em;position: relative;}#sk-container-id-1 div.sk-item {position: relative;z-index: 1;}#sk-container-id-1 div.sk-parallel {display: flex;align-items: stretch;justify-content: center;background-color: white;position: relative;}#sk-container-id-1 div.sk-item::before, #sk-container-id-1 div.sk-parallel-item::before {content: \"\";position: absolute;border-left: 1px solid gray;box-sizing: border-box;top: 0;bottom: 0;left: 50%;z-index: -1;}#sk-container-id-1 div.sk-parallel-item {display: flex;flex-direction: column;z-index: 1;position: relative;background-color: white;}#sk-container-id-1 div.sk-parallel-item:first-child::after {align-self: flex-end;width: 50%;}#sk-container-id-1 div.sk-parallel-item:last-child::after {align-self: flex-start;width: 50%;}#sk-container-id-1 div.sk-parallel-item:only-child::after {width: 0;}#sk-container-id-1 div.sk-dashed-wrapped {border: 1px dashed gray;margin: 0 0.4em 0.5em 0.4em;box-sizing: border-box;padding-bottom: 0.4em;background-color: white;}#sk-container-id-1 div.sk-label label {font-family: monospace;font-weight: bold;display: inline-block;line-height: 1.2em;}#sk-container-id-1 div.sk-label-container {text-align: center;}#sk-container-id-1 div.sk-container {/* jupyter's `normalize.less` sets `[hidden] { display: none; }` but bootstrap.min.css set `[hidden] { display: none !important; }` so we also need the `!important` here to be able to override the default hidden behavior on the sphinx rendered scikit-learn.org. See: https://github.com/scikit-learn/scikit-learn/issues/21755 */display: inline-block !important;position: relative;}#sk-container-id-1 div.sk-text-repr-fallback {display: none;}</style><div id=\"sk-container-id-1\" class=\"sk-top-container\"><div class=\"sk-text-repr-fallback\"><pre>SGDClassifier(random_state=2910)</pre><b>In a Jupyter environment, please rerun this cell to show the HTML representation or trust the notebook. <br />On GitHub, the HTML representation is unable to render, please try loading this page with nbviewer.org.</b></div><div class=\"sk-container\" hidden><div class=\"sk-item\"><div class=\"sk-estimator sk-toggleable\"><input class=\"sk-toggleable__control sk-hidden--visually\" id=\"sk-estimator-id-1\" type=\"checkbox\" checked><label for=\"sk-estimator-id-1\" class=\"sk-toggleable__label sk-toggleable__label-arrow\">SGDClassifier</label><div class=\"sk-toggleable__content\"><pre>SGDClassifier(random_state=2910)</pre></div></div></div></div></div>"
      ],
      "text/plain": [
       "SGDClassifier(random_state=2910)"
      ]
     },
     "execution_count": 27,
     "metadata": {},
     "output_type": "execute_result"
    }
   ],
   "source": [
    "from sklearn.linear_model import SGDClassifier\n",
    "\n",
    "sgd_clf = SGDClassifier(random_state=2910)\n",
    "sgd_clf.fit(X_train, y_train_8)\n"
   ]
  },
  {
   "cell_type": "markdown",
   "metadata": {},
   "source": [
    "### Make prediction with image show above"
   ]
  },
  {
   "cell_type": "code",
   "execution_count": 28,
   "metadata": {},
   "outputs": [
    {
     "data": {
      "text/plain": [
       "array([ True])"
      ]
     },
     "execution_count": 28,
     "metadata": {},
     "output_type": "execute_result"
    }
   ],
   "source": [
    "sgd_clf.predict([some_digit])"
   ]
  },
  {
   "cell_type": "markdown",
   "metadata": {},
   "source": [
    "## Performance Measures"
   ]
  },
  {
   "cell_type": "markdown",
   "metadata": {},
   "source": [
    "### Measuring accuracy using cross-validation"
   ]
  },
  {
   "cell_type": "markdown",
   "metadata": {},
   "source": [
    "Sử dụng `StratifiedKfold`"
   ]
  },
  {
   "cell_type": "code",
   "execution_count": 29,
   "metadata": {},
   "outputs": [
    {
     "name": "stdout",
     "output_type": "stream",
     "text": [
      "0.9330952380952381\n",
      "0.9221428571428572\n",
      "0.9268095238095239\n"
     ]
    }
   ],
   "source": [
    "from sklearn.model_selection import StratifiedKFold\n",
    "from sklearn.base import clone\n",
    "\n",
    "skfolds = StratifiedKFold(n_splits=3, random_state=2910, shuffle=True)\n",
    "\n",
    "for train_idx, test_idx in skfolds.split(X_train, y_train_8):\n",
    "    clone_clf = clone(sgd_clf)\n",
    "    \n",
    "    X_train_folds = X_train[train_idx]\n",
    "    y_train_folds = y_train_8[train_idx]\n",
    "    \n",
    "    X_test_folds = X_train[test_idx]\n",
    "    y_test_folds = y_train_8[test_idx]\n",
    "    \n",
    "    clone_clf.fit(X_train_folds, y_train_folds)\n",
    "    y_pred = clone_clf.predict(X_test_folds)\n",
    "    n_correct = sum(y_pred == y_test_folds)\n",
    "    \n",
    "    print(n_correct / len(y_pred))\n",
    "    "
   ]
  },
  {
   "cell_type": "markdown",
   "metadata": {},
   "source": [
    "Sử dụng `cross_val_score`"
   ]
  },
  {
   "cell_type": "code",
   "execution_count": 30,
   "metadata": {},
   "outputs": [
    {
     "data": {
      "text/plain": [
       "array([0.93833333, 0.92771429, 0.92390476])"
      ]
     },
     "execution_count": 30,
     "metadata": {},
     "output_type": "execute_result"
    }
   ],
   "source": [
    "from sklearn.model_selection import cross_val_score\n",
    "\n",
    "cross_val_score(sgd_clf, X_train, y_train_8, cv=3, scoring='accuracy')"
   ]
  },
  {
   "cell_type": "markdown",
   "metadata": {},
   "source": [
    "Có một vấn đề là độ chính xác (accuracy) không phải là một cách đánh giá performance nên được dùng của một classifier. Lấy ví dụ ta sẽ sử dụng một classifier luôn luôn cho ra dự đoán là dữ liệu này chính là số 8.\n",
    "\n",
    "Cùng xem qua tập dữ liệu:"
   ]
  },
  {
   "cell_type": "code",
   "execution_count": 31,
   "metadata": {},
   "outputs": [
    {
     "name": "stdout",
     "output_type": "stream",
     "text": [
      "Number of 8 class: 6152\n",
      "Number of not 8 class: 56848\n",
      "Ratio of num_8/total = 0.9023492063492063\n"
     ]
    }
   ],
   "source": [
    "print(f\"Number of 8 class: {sum(y_train_8)}\")\n",
    "print(f\"Number of not 8 class: {len(y_train_8) - sum(y_train_8)}\")\n",
    "\n",
    "print(f\"Ratio of num_8/total = {1- sum(y_train_8)/len(y_train_8)}\")"
   ]
  },
  {
   "cell_type": "markdown",
   "metadata": {},
   "source": [
    "Như vậy ta có tỷ lệ các số không phải là 8 tầm 90%"
   ]
  },
  {
   "cell_type": "markdown",
   "metadata": {},
   "source": [
    "Bây giờ ta sẽ viết classifier luôn luôn cho ra dự đoán dữ liệu chính là số 8"
   ]
  },
  {
   "cell_type": "code",
   "execution_count": 32,
   "metadata": {},
   "outputs": [
    {
     "data": {
      "text/plain": [
       "array([0.90119048, 0.899     , 0.90685714])"
      ]
     },
     "execution_count": 32,
     "metadata": {},
     "output_type": "execute_result"
    }
   ],
   "source": [
    "from sklearn.base import BaseEstimator\n",
    "from sklearn.model_selection import cross_val_score\n",
    "import numpy as np\n",
    "\n",
    "\n",
    "class NeverEightClf(BaseEstimator):\n",
    "    def fit(self, X, y=None):\n",
    "        pass\n",
    "    def predict(self, X):\n",
    "        return np.zeros((len(X), 1), dtype=bool)\n",
    "    \n",
    "    \n",
    "    \n",
    "never_8_clf = NeverEightClf()\n",
    "\n",
    "cross_val_score(never_8_clf, X_train, y_train_8, cv=3, scoring='accuracy')"
   ]
  },
  {
   "cell_type": "markdown",
   "metadata": {},
   "source": [
    "Accuracy thu được là 90%, điều này là hiển nhiên vì như ta đã thấy từ đầu là có 90% data không phải 8 và 10% là số 8. Như vậy model luôn dự đoán data không phải là 8 thì đương nhiên sẽ có ít nhất là 90% accuracy"
   ]
  },
  {
   "cell_type": "markdown",
   "metadata": {},
   "source": [
    "### Confusion Matrix"
   ]
  },
  {
   "cell_type": "markdown",
   "metadata": {},
   "source": [
    "Một cách tốt hơn để có thể đánh giá hiệu năng của `classifier` là nhìn vào `confusion matrix`. Ý tưởng là đếm số lần mà class A bị classified nhầm thành class B. Ví dụ, để biết số lần bị phần biệt nhầm của 5s thành 3s thì ta sẽ nhìn vào dòng thứ 5, cột 3 của confusion matrix.\n",
    "\n",
    "Để tạo ra confusion matrix, đầu tiên thì cần phải có list của các predictions đã tạo ra để có thể so sánh với kết quả thực tế.\n",
    "\n",
    "Hàm `cross_val_predict` giống với `cross_val_score` nhưng chúng khác nhau ở giá trị trả về:\n",
    "\n",
    "- `cross_val_predict` trả về giá trị predictions\n",
    "- `cross_val_score` trả về accuracy"
   ]
  },
  {
   "cell_type": "code",
   "execution_count": 33,
   "metadata": {},
   "outputs": [],
   "source": [
    "from sklearn.model_selection import cross_val_predict\n",
    "\n",
    "y_train_pred = cross_val_predict(sgd_clf, X_train, y_train_8, cv=3)"
   ]
  },
  {
   "cell_type": "code",
   "execution_count": 34,
   "metadata": {},
   "outputs": [
    {
     "data": {
      "text/plain": [
       "array([[56043,   805],\n",
       "       [ 3606,  2546]], dtype=int64)"
      ]
     },
     "execution_count": 34,
     "metadata": {},
     "output_type": "execute_result"
    }
   ],
   "source": [
    "from sklearn.metrics import confusion_matrix\n",
    "\n",
    "confusion_matrix(y_train_8, y_train_pred)"
   ]
  },
  {
   "cell_type": "markdown",
   "metadata": {},
   "source": [
    "Ý nghĩa của `confusion matrix` trên là:\n",
    "\n",
    "- Mỗi dòng biểu diễn cho `actual class` và mỗi cột biểu diễn `predicted class`\n",
    "\n",
    "#     | predicted as non-5s | predicted as 5s\n",
    "------|---------------------|-----------------\n",
    "non-5s|56043                |805\n",
    "5s    |3606                 |2546"
   ]
  },
  {
   "cell_type": "markdown",
   "metadata": {},
   "source": [
    "Ta có tất cả 63000 điểm dữ liệu:\n",
    "\n",
    "- 56848 điểm là không phải class 5\n",
    "- 6152 điểm là class 5\n",
    "\n",
    "- Đối với 56848 điểm không phải class 5, khi đưa vào mô hình thì ta được dự đoán đúng 56043 điểm và 805 điểm bị dự đoán sai\n",
    "\n",
    "- Đối với 6152 điểm là class 5, khi đưa vào mô hình ta được dự đoán đúng 2546 điểm và 3606 điểm bị dự đoán sai\n",
    "\n",
    "=> Cột predicted as non-5s:  negative prediction\n",
    "\n",
    "=> Cột predicted as 5s    :postitive prediction\n",
    "\n",
    "Như vậy nếu như predicted class là hoàn hảo => Ta sẽ có confusion matrix dạng như sau:\n",
    "\n",
    "#     | predicted as non-5s | predicted as 5s\n",
    "------|---------------------|-----------------\n",
    "non-5s|56848                |0\n",
    "5s    |0                    |6152\n",
    "\n",
    "Tức `confusion matrix` cho 100% predicted đúng sẽ là ma trận đường chéo"
   ]
  },
  {
   "cell_type": "markdown",
   "metadata": {},
   "source": [
    "### Precision và Recall"
   ]
  },
  {
   "cell_type": "markdown",
   "metadata": {},
   "source": [
    "- Precision được gọi là độ chính xác của mô hình nói tỉ lệ số điểm positive mô hình dự đoán đúng trên tổng số điểm dự đoán là positive\n",
    "- Recall là độ nhạy của mô hình nói lên tỉ lệ số điểm positive  dự đoán đúng trên tổng số điểm thực sự là positive"
   ]
  },
  {
   "cell_type": "markdown",
   "metadata": {},
   "source": [
    "#### Precision\n",
    "\n",
    "Giá trị biểu diễn accuracy của positive prediction được gọi là `precision` của classifier"
   ]
  },
  {
   "cell_type": "markdown",
   "metadata": {},
   "source": [
    "precision =$\\frac{TP}{TP + FP}$"
   ]
  },
  {
   "cell_type": "markdown",
   "metadata": {},
   "source": [
    "- TP là số prediction đúng của positive prediction\n",
    "- FP là số prediction sai của positive prediction"
   ]
  },
  {
   "cell_type": "markdown",
   "metadata": {},
   "source": [
    "#### Recall"
   ]
  },
  {
   "cell_type": "markdown",
   "metadata": {},
   "source": [
    "Còn được gọi là `sensivity` hay `true positive rate` (Độ nhạy)"
   ]
  },
  {
   "cell_type": "markdown",
   "metadata": {},
   "source": [
    "recall = $\\frac{TP}{TP + FN}$"
   ]
  },
  {
   "cell_type": "markdown",
   "metadata": {},
   "source": [
    "- FN là số prediction sai của negative prediction"
   ]
  },
  {
   "cell_type": "markdown",
   "metadata": {},
   "source": [
    "![](../../../imgs/precision_recall.png)"
   ]
  },
  {
   "cell_type": "markdown",
   "metadata": {},
   "source": [
    "* Vị trí: hàng - cột\n",
    "\n",
    "- Như vậy confusion matrix có dạng như trên, với các số ở vị trí negative-negative được gọi là true negatives.\n",
    "\n",
    "- Với các số ở vị trí negative-positive thì được gọi là false positives\n",
    "\n",
    "- Với các số ở vị trí positives-positive thì được gọi là true positives\n",
    "\n",
    "- Với các số ở vị trí positive-negative thì được gọi là false positives\n",
    "\n"
   ]
  },
  {
   "cell_type": "code",
   "execution_count": 35,
   "metadata": {},
   "outputs": [
    {
     "name": "stdout",
     "output_type": "stream",
     "text": [
      "0.759773202029245\n",
      "0.4138491547464239\n"
     ]
    }
   ],
   "source": [
    "from sklearn.metrics import precision_score, recall_score\n",
    "\n",
    "print(precision_score(y_train_8, y_train_pred))\n",
    "\n",
    "print(recall_score(y_train_8, y_train_pred))"
   ]
  },
  {
   "cell_type": "markdown",
   "metadata": {},
   "source": [
    "### F1 score"
   ]
  },
  {
   "cell_type": "markdown",
   "metadata": {},
   "source": [
    "Ta dùng F1 score như là sự kết hợp của cả precision và recall để so sanh giữa các model"
   ]
  },
  {
   "cell_type": "markdown",
   "metadata": {},
   "source": [
    "![](../../../imgs/f1.png)"
   ]
  },
  {
   "cell_type": "code",
   "execution_count": 36,
   "metadata": {},
   "outputs": [
    {
     "data": {
      "text/plain": [
       "0.5358307902767547"
      ]
     },
     "execution_count": 36,
     "metadata": {},
     "output_type": "execute_result"
    }
   ],
   "source": [
    "from sklearn.metrics import f1_score\n",
    "\n",
    "f1_score(y_train_8, y_train_pred)"
   ]
  },
  {
   "cell_type": "markdown",
   "metadata": {},
   "source": [
    "Tuy nhiên không phải lúc nào cũng dùng `F1 score` để đánh giá model. Trong một số trường hợp, thứ mà ta quan tâm nhiều nhất là `precision`, nhưng trong trường hợp khác ta lại quan tâm nhiều nhất là `recall`.\n",
    "\n",
    "Ví dụ: Nếu như ta cần training một classifier để xác định video nào an toàn cho trẻ em, hiển nhiên là ta sẽ muốn một classifier mà có khả năng nhận diện ra video xấu lớn => TP lớn, FP nhỏ => precision lớn và recall nhỏ\n",
    "\n",
    "Và hiển nhiên là ta không thể nào có lợi được cả về recall và precision, ta chỉ có thể đánh đổi một bên để cho bên kia được tố nhất. Vậy cho nên ta có định nghĩa `precision/recall tradeoff`\n"
   ]
  },
  {
   "cell_type": "markdown",
   "metadata": {},
   "source": [
    "### Precision/Recall Tradeoff"
   ]
  },
  {
   "cell_type": "markdown",
   "metadata": {},
   "source": [
    "Để hiểu định nghĩa ta sẽ xem `SGDClassifier` thực hiện classification decisions thế nào. Với mỗi số, nó sẽ tính toán một score dựa trên `decision function` và nếu như score này lớn hơn threshold, số đó sẽ được gán cho `positive class` và ngược lại gán cho `negative class`. Giả sử threshold được đặt ở mũi tên chính giữa ta có hình sau\n",
    "\n",
    "![](../../../imgs/trade_off_1.png)"
   ]
  },
  {
   "cell_type": "markdown",
   "metadata": {},
   "source": [
    "Ta thấy răng các số ở bên phải của decision-threshold được gán là positive class, các số ở bên trái là negative class.\n",
    "\n",
    "Như vậy ta sẽ có 4 số 5 là `true positive`, một số 6 là `false positive` => tính được precision là 4/5. Tổng cộng ta có sáu số 5 cần classified, trong đó có 4 số là detect đúng => recall = 4/6"
   ]
  },
  {
   "cell_type": "markdown",
   "metadata": {},
   "source": [
    "Bây giờ nếu như ta thay đổi decision-threshold sang bên phải:\n",
    "\n",
    "- Có 3 số thì cả 3 số đều là 5 => true positive => precision = 3/3 \n",
    "- recall = 3/6\n",
    "\n",
    "Nếu đổi decision-threshold sang bên trái thì:\n",
    "\n",
    "- precision = 6/8\n",
    "- recall - 6/6"
   ]
  },
  {
   "cell_type": "markdown",
   "metadata": {},
   "source": [
    "sklearn không cho ta set threshold một cách trực tiếp nhưng cho cho ta hàm tính toán và trả về decision score. Từ decision score ta có thể apply threshold tự định nghĩa để gán class cho data."
   ]
  },
  {
   "cell_type": "code",
   "execution_count": 37,
   "metadata": {},
   "outputs": [
    {
     "name": "stdout",
     "output_type": "stream",
     "text": [
      "[950.70310311]\n",
      "[ True]\n"
     ]
    }
   ],
   "source": [
    "y_scores = sgd_clf.decision_function([some_digit])\n",
    "\n",
    "print(y_scores)\n",
    "\n",
    "threshold = 0\n",
    "\n",
    "y_some_digit_pred = (y_scores > threshold)\n",
    "\n",
    "print(y_some_digit_pred)\n"
   ]
  },
  {
   "cell_type": "code",
   "execution_count": 38,
   "metadata": {},
   "outputs": [
    {
     "name": "stdout",
     "output_type": "stream",
     "text": [
      "[False]\n"
     ]
    }
   ],
   "source": [
    "threshold = 200000\n",
    "\n",
    "y_some_digit_pred = (y_scores > threshold)\n",
    "\n",
    "print(y_some_digit_pred)"
   ]
  },
  {
   "cell_type": "markdown",
   "metadata": {},
   "source": [
    "Ta thấy răng threshold càng tăng thì recall càng giảm."
   ]
  },
  {
   "cell_type": "markdown",
   "metadata": {},
   "source": [
    "Ta có thể biết được là nên dùng giá trị nào của threshold bằng cách dùng `cross_val_predict()` nhưng bây giờ sẽ không trả về giá trị predcit mà trả về kết quả của `decision scores`. "
   ]
  },
  {
   "cell_type": "code",
   "execution_count": 39,
   "metadata": {},
   "outputs": [],
   "source": [
    "y_scores = cross_val_predict(sgd_clf, X_train, y_train_8,\n",
    "                             cv=3, method='decision_function')"
   ]
  },
  {
   "cell_type": "markdown",
   "metadata": {},
   "source": [
    "Với các giá trị `decision_scores` thu được ta có thể thực hiện tính toán `precision và recall` cho tất cả các trường hợp threshold với hàm `precision_recall_curve()` function:"
   ]
  },
  {
   "cell_type": "code",
   "execution_count": 45,
   "metadata": {},
   "outputs": [
    {
     "name": "stdout",
     "output_type": "stream",
     "text": [
      "(63001,)\n",
      "(63000,)\n"
     ]
    },
    {
     "data": {
      "image/png": "[encoded data removed]",
      "text/plain": [
       "<Figure size 432x288 with 1 Axes>"
      ]
     },
     "metadata": {
      "needs_background": "light"
     },
     "output_type": "display_data"
    }
   ],
   "source": [
    "from sklearn.metrics import precision_recall_curve\n",
    "\n",
    "precisions, recalls, thresholds = precision_recall_curve(y_train_8, y_scores)\n",
    "\n",
    "\n",
    "def plot_precision_recall_vs_threshold(precisions, recalls, thresholds):\n",
    "    plt.plot(thresholds, precisions[:-1], \"b--\", label=\"Precision\")\n",
    "    plt.plot(thresholds, recalls[:-1], \"g-\", label=\"Recall\")\n",
    "    plt.xlabel(\"Threshold\")\n",
    "    plt.legend(loc=\"center left\")\n",
    "    plt.ylim([0, 1])\n",
    "    \n",
    "    \n",
    "plot_precision_recall_vs_threshold(precisions, recalls, thresholds)\n",
    "plt.show()"
   ]
  },
  {
   "cell_type": "markdown",
   "metadata": {},
   "source": [
    "Từ đồ thị ta có thể thấy mối quan hệ giữa threshold đối với recall và precision\n",
    "\n",
    "- Khi threshold tăng thì recall luôn luôn giảm\n",
    "- Khi threshold tăng thì precision có thể tăng hoặc cũng có thể giảm"
   ]
  },
  {
   "cell_type": "markdown",
   "metadata": {},
   "source": [
    "Bây giờ thì ta có thể chọn được threshold sao cho phù hợp với `precision/recall` tradeoff"
   ]
  },
  {
   "cell_type": "markdown",
   "metadata": {},
   "source": [
    "Một cách khác nữa để chọn 2 giá trị `precision và recall` theo ý muốn đó là vẽ ra đồ thị phụ thuốc của precision vào recall"
   ]
  },
  {
   "cell_type": "code",
   "execution_count": 46,
   "metadata": {},
   "outputs": [
    {
     "data": {
      "image/png": "[encoded data removed]",
      "text/plain": [
       "<Figure size 432x288 with 1 Axes>"
      ]
     },
     "metadata": {
      "needs_background": "light"
     },
     "output_type": "display_data"
    }
   ],
   "source": [
    "plt.plot(recalls[:-1], precisions[:-1],\"b-\")\n",
    "plt.xlabel(\"Recall\")\n",
    "plt.ylabel(\"Precision\")\n",
    "plt.show()"
   ]
  },
  {
   "cell_type": "markdown",
   "metadata": {},
   "source": [
    "Bây giờ ví dụ ta muốn đạt được 90% precision, nhìn vào plot thứ nhất mqh giữa precision, recall và threshold. Ta thấy răng ta sẽ cần giá trị threshold là vào khoảng 10,000"
   ]
  },
  {
   "cell_type": "code",
   "execution_count": 49,
   "metadata": {},
   "outputs": [
    {
     "name": "stdout",
     "output_type": "stream",
     "text": [
      "0.9142857142857143\n",
      "0.005201560468140442\n"
     ]
    }
   ],
   "source": [
    "y_train_pred_90 = (y_scores > 10000)\n",
    "\n",
    "print(precision_score(y_train_8, y_train_pred_90))\n",
    "\n",
    "print(recall_score(y_train_8, y_train_pred_90))"
   ]
  },
  {
   "cell_type": "markdown",
   "metadata": {},
   "source": [
    "### ROC Curve"
   ]
  },
  {
   "cell_type": "markdown",
   "metadata": {},
   "source": [
    "Viết tắt của `receiver operating characteristic` (ROC). Đường này giống với đường precision/recall, nhưng thay vì plot ra precision theo recall, ROC curve plots `true positive rate` (tên gọi khác của recall) theo `false positive rate`.\n",
    "\n",
    "- Thông số FPR là tỉ lệ của negative class bị classified nhầm thành positive. FPR = 1 - `true negative rate` (True negative rate là tỉ số các class negative được classified đúng là negative)\n",
    "- Thông số TNR còn được gọi là `specifity`.\n",
    "\n",
    "ROC curve plots `sensivity` (recall) versus `1 - specifity`\n",
    "\n"
   ]
  },
  {
   "cell_type": "code",
   "execution_count": 51,
   "metadata": {},
   "outputs": [
    {
     "data": {
      "image/png": "[encoded data removed]",
      "text/plain": [
       "<Figure size 432x288 with 1 Axes>"
      ]
     },
     "metadata": {
      "needs_background": "light"
     },
     "output_type": "display_data"
    }
   ],
   "source": [
    "from sklearn.metrics import roc_curve\n",
    "\n",
    "fpr, tpr, threshold = roc_curve(y_train_8, y_scores)\n",
    "\n",
    "def plot_roc_curve(fpr, tpr, label=None):\n",
    "    plt.plot(fpr, tpr, linewidth=2, label=label)\n",
    "    plt.plot([0,1], [0, 1], 'k--')\n",
    "    plt.axis([0, 1, 0, 1])\n",
    "    plt.xlabel('False Positive rate')\n",
    "    plt.ylabel('True Positive Rate')\n",
    "    \n",
    "plot_roc_curve(fpr, tpr)\n",
    "plt.show()"
   ]
  },
  {
   "cell_type": "markdown",
   "metadata": {},
   "source": [
    "## Multiclass Classification"
   ]
  },
  {
   "cell_type": "markdown",
   "metadata": {},
   "source": [
    "Thường thì ta có thể sử dụng một số classifier sau đây để phân loại trực tiếp nhiều class:\n",
    "\n",
    "- Random Forest \n",
    "- Naive bayes\n",
    "\n",
    "Một số loại sau thì strictly dùng cho phân loại 2 class (binary classification):\n",
    "\n",
    "- Support Vector Machine\n",
    "- Linear classifier\n",
    "\n",
    "Tuy nhiên ta có thể kết hợp các bộ binary classifier để có được 1 bộ multinomial classifier bằng cách Như sau. Ví dụ cần phân biệt các số từ 0-9. Ta sẽ sử dụng 10 bộ classifier lần lượt là:\n",
    "\n",
    "- Bộ classifier digit 0 và không phải digit 0\n",
    "- Bộ classifier digit 1 và không phải digit 1\n",
    "\n",
    "...\n",
    "\n",
    "- Bộ classifier digit 9 và không phải digit 9\n",
    "\n",
    "Sau đó khi ta muốn classify image, ta sẽ lấy ra decision score từ mỗi classifier và sau đó gán label cho ảnh theo class mà có decision score cao nhất. Đây gọi là `one-versus-all` (OvA) hay còn gọi là `one-versus-rest`.\n",
    "\n"
   ]
  },
  {
   "cell_type": "markdown",
   "metadata": {},
   "source": [
    "Một cách khác đó là ta sẽ train binary classifier để phân biệt các cặp digits: phân biệt digit 0 và 1, phân biệt digit 0 và 2, ... Đây gọi là `one-versus-one` (OvO). Nếu như ta có `N` classes, vậy ta sẽ cần `Nx(N-1)/2` classifiers. Ví dụ cho MNIST là có 10 classes => có 10x(10-1)/2 = 45 bộ classifiers. Lợi ích của việc dùng `strategy OvO` này là ta chỉ cần training mỗi classifier trên tập data chỉ gồm 2 digits cần classifier thôi chứ không phải toàn bộ tập train data.\n",
    "\n",
    "Với hầu hết các classification algorithms thì `OvA` hay được dùng hơn. Tuy có SVM thì hay dùng `OvO`"
   ]
  },
  {
   "cell_type": "markdown",
   "metadata": {},
   "source": [
    "Sklearn sẽ tự xác định xem khi ta sử dụng `binary classification` cho `multi-class classification` thì nó sẽ chạy `OvA` trừ với SVM thì nó sẽ chạy `OvO`."
   ]
  },
  {
   "cell_type": "markdown",
   "metadata": {},
   "source": [
    "## Error Analysis"
   ]
  },
  {
   "cell_type": "markdown",
   "metadata": {},
   "source": [
    "Nếu như theo các bước ở [Appendix B: exploring data preparation options](../Appendix_ML_project_checklist.md) thì ta sẽ thử nhiều models, tìm ra model tốt nhất với `GridSearchCV`.\n",
    "\n",
    "Giả sử như ta đã tìm ra được model mong muốn và ta muốn tìm cách để cải thiện nó. Có một cách đó là phân tích loại lỗi mà model gặp phải.\n",
    "\n",
    "Đầu tiên thì ta có thể nhìn vào `confusion matrix`. Sử dụng hàm `cross_val_predict()` để tính ra prediction cho tập dữ liệu, sau đó gọi hàm `confusion_matrix` để tính toán"
   ]
  },
  {
   "cell_type": "code",
   "execution_count": 52,
   "metadata": {},
   "outputs": [
    {
     "data": {
      "text/plain": [
       "array([[6112,    0,   13,   10,    3,   14,   11,    2,   41,   10],\n",
       "       [   8, 6699,   42,   35,    8,   38,   13,   12,  184,   26],\n",
       "       [ 146,   50, 5501,  117,   65,   40,   59,   82,  219,   20],\n",
       "       [ 120,   34,  179, 5493,    9,  331,    9,   46,  167,   80],\n",
       "       [  64,   22,   65,   35, 5361,   20,   40,   26,  149,  387],\n",
       "       [ 227,   30,   39,  353,   81, 4273,   76,   34,  412,  145],\n",
       "       [ 152,   16,  148,   34,   32,  147, 5466,    4,  174,    6],\n",
       "       [  58,   22,   72,   44,   66,   20,    4, 5798,   72,  377],\n",
       "       [ 163,   96,  173,  247,   42,  450,   41,   32, 4742,  166],\n",
       "       [  78,   24,   35,  104,  246,   57,    1,  166,  255, 5283]],\n",
       "      dtype=int64)"
      ]
     },
     "execution_count": 52,
     "metadata": {},
     "output_type": "execute_result"
    }
   ],
   "source": [
    "y_train_pred = cross_val_predict(sgd_clf, X_train, y_train, cv=3)\n",
    "conf_mx = confusion_matrix(y_train, y_train_pred)\n",
    "\n",
    "conf_mx"
   ]
  },
  {
   "cell_type": "markdown",
   "metadata": {},
   "source": [
    "Ta có thể tận dụng giá trị pixel ảnh càng lớn thì màu sắc càng gần màu trắng để đổi ma trận số trên thành ma trận ảnh để có cái nhìn hay hơn về confusion matrix với hàm `plt.matshow`"
   ]
  },
  {
   "cell_type": "code",
   "execution_count": 53,
   "metadata": {},
   "outputs": [
    {
     "data": {
      "image/png": "[encoded data removed]",
      "text/plain": [
       "<Figure size 288x288 with 1 Axes>"
      ]
     },
     "metadata": {
      "needs_background": "light"
     },
     "output_type": "display_data"
    }
   ],
   "source": [
    "plt.matshow(conf_mx, cmap=plt.cm.gray)\n",
    "plt.show()"
   ]
  },
  {
   "cell_type": "markdown",
   "metadata": {},
   "source": [
    "Với màu sắc của ma trận ảnh trên ta có thể thấy răng các class đã được classified khá đúng vì màu sắc tại đường chéo là màu gần trắng. Nhìn vào class 5 thì có vẻ như tối hơn so với các class còn lại thì ta có thể nhận xét rằng classifier đang không thực hiện tốt lắm trên class 5 hoặc cũng có thể class 5 có số lượng ít hơn so với các class còn lại.\n",
    "\n",
    "Ta có thể kiểm tra cả 2 case trên với class 5.\n",
    "\n",
    "Đầu tiên, ta sẽ chia các giá trị của ma trận cho số lượng images thuộc về mỗi class ( chính là tổng các dòng)."
   ]
  },
  {
   "cell_type": "code",
   "execution_count": 55,
   "metadata": {},
   "outputs": [
    {
     "name": "stdout",
     "output_type": "stream",
     "text": [
      "[[6216]\n",
      " [7065]\n",
      " [6299]\n",
      " [6468]\n",
      " [6169]\n",
      " [5670]\n",
      " [6179]\n",
      " [6533]\n",
      " [6152]\n",
      " [6249]]\n"
     ]
    }
   ],
   "source": [
    "row_sums = conf_mx.sum(axis=1, keepdims=True)\n",
    "\n",
    "print(row_sums)\n",
    "\n",
    "norm_conf_mx = conf_mx / row_sums"
   ]
  },
  {
   "cell_type": "markdown",
   "metadata": {},
   "source": [
    "Tiếp theo ta sẽ tô đen đường chéo (tức các class phần loại đúng) và chỉ giữ lại error"
   ]
  },
  {
   "cell_type": "code",
   "execution_count": 56,
   "metadata": {},
   "outputs": [
    {
     "data": {
      "image/png": "[encoded data removed]",
      "text/plain": [
       "<Figure size 288x288 with 1 Axes>"
      ]
     },
     "metadata": {
      "needs_background": "light"
     },
     "output_type": "display_data"
    }
   ],
   "source": [
    "np.fill_diagonal(norm_conf_mx, 0)\n",
    "plt.matshow(norm_conf_mx, cmap=plt.cm.gray)\n",
    "plt.show()"
   ]
  },
  {
   "cell_type": "markdown",
   "metadata": {},
   "source": [
    "## Multilabel Classification"
   ]
  },
  {
   "cell_type": "markdown",
   "metadata": {},
   "source": [
    "## Multiouput Classification"
   ]
  }
 ],
 "metadata": {
  "kernelspec": {
   "display_name": "Python 3.9.7 ('base')",
   "language": "python",
   "name": "python3"
  },
  "language_info": {
   "codemirror_mode": {
    "name": "ipython",
    "version": 3
   },
   "file_extension": ".py",
   "mimetype": "text/x-python",
   "name": "python",
   "nbconvert_exporter": "python",
   "pygments_lexer": "ipython3",
   "version": "3.9.7"
  },
  "orig_nbformat": 4,
  "vscode": {
   "interpreter": {
    "hash": "a99539085cd3bdd5c32c96cfbe8da0377cdfd87c78a129b6678f1e2495c8398d"
   }
  }
 },
 "nbformat": 4,
 "nbformat_minor": 2
}
